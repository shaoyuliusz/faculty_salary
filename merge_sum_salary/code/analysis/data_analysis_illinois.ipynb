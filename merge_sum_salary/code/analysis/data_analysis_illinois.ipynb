{
 "cells": [
  {
   "cell_type": "code",
   "execution_count": null,
   "id": "aa4b5941",
   "metadata": {},
   "outputs": [],
   "source": [
    "import os\n",
    "import warnings\n",
    "warnings.simplefilter('ignore')\n",
    "\n",
    "import pandas as pd\n",
    "#pd.options.display.float_format = \"{:,.2f}\".format\n",
    "\n",
    "import numpy as np\n",
    "from matplotlib import pyplot as plt\n",
    "import seaborn as sns\n",
    "%matplotlib inline\n",
    "\n",
    "os.chdir('/Users/apple/Dropbox/web_scrapping_UC/temp/')"
   ]
  },
  {
   "cell_type": "code",
   "execution_count": null,
   "id": "6e377289",
   "metadata": {},
   "outputs": [],
   "source": [
    "#load Illinois publication and salary data\n",
    "ui_pub = pd.read_csv('scopus_illinois.csv')\n",
    "\n",
    "ui_salary = pd.read_stata('illinois.dta')\n",
    "ui_salary.rename(columns = {'salary':'regular_pay','salary_total':'gross_pay'}, inplace = True)\n",
    "\n",
    "#load citescore for journals\n",
    "journal_rnk = pd.read_csv('/Users/apple/Dropbox/web_scrapping_UC/scopus/scopus_aux/citescore.csv')\n",
    "journal_rnk.rename(columns = {'year':'pub_yr'}, inplace = True)\n",
    "journal_rnk2019 = pd.read_csv('/Users/apple/Desktop/research_fellow_documents/data_analysis2021107/scopus_journal_ranking_2019.csv')\n",
    "\n",
    "#load research area code\n",
    "asjc = pd.read_csv('/Users/apple/Dropbox/web_scrapping_UC/scopus/scopus_aux/scopus_journal_classify_updated_copy.csv')\n",
    "\n",
    "#merge citescore into publication data\n",
    "### articles with no citescore is filled with zero ... including all publications before 1990 ###\n",
    "ui_pub = umi_pub.merge(journal_rnk[['source_id','pub_yr','citescore']], on = ['pub_yr','source_id'], how = 'left')\n",
    "ui_pub['citescore'] = umi_pub['citescore'].fillna(0)"
   ]
  }
 ],
 "metadata": {
  "kernelspec": {
   "display_name": "Python 3",
   "language": "python",
   "name": "python3"
  },
  "language_info": {
   "codemirror_mode": {
    "name": "ipython",
    "version": 3
   },
   "file_extension": ".py",
   "mimetype": "text/x-python",
   "name": "python",
   "nbconvert_exporter": "python",
   "pygments_lexer": "ipython3",
   "version": "3.8.8"
  }
 },
 "nbformat": 4,
 "nbformat_minor": 5
}
