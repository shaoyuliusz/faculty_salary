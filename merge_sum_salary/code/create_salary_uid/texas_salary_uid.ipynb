{
 "cells": [
  {
   "cell_type": "markdown",
   "id": "02715209",
   "metadata": {},
   "source": [
    "## Data Preprocessing - Texas System Salary\n",
    "### This file assigns unique person-ID based on her department, title series, salary and year for University of Illinois salary data.\n",
    "\n",
    "**Input: Texas Salary Data ('texas.dta')**\n",
    "\n",
    "**Output: texas_salary.csv, with extra column \"uid\" for each unique individual; \"suspicious\" indicates possible mismatch** \n",
    "\n",
    "### Mark the following UIDs as suspicious\n",
    "1. **Rank** Within a year same name has two ranks, then mark as suspicious\n",
    "2. **Within Department** Same name that has multiple records in the same department same year but salaries are different\n",
    "3. **Across Department** Same name that have more than 1 department in the same year and whose salaries are different\n",
    "\n",
    "Total: 255 IDs out of 101,505 IDs and 1,215 out of 230,092 rows rows marked as suspicious"
   ]
  },
  {
   "cell_type": "code",
   "execution_count": 82,
   "id": "3708bea8",
   "metadata": {},
   "outputs": [],
   "source": [
    "import os\n",
    "import warnings\n",
    "warnings.simplefilter('ignore')\n",
    "\n",
    "import pandas as pd\n",
    "\n",
    "import numpy as np\n",
    "from matplotlib import pyplot as plt\n",
    "#import seaborn as sns\n",
    "%matplotlib inline\n",
    "\n",
    "os.chdir('/Users/apple/Dropbox/web_scrapping_UC/temp/')\n",
    "df = pd.read_stata('texas.dta')\n",
    "df.rename(columns = {'salary':'gross_pay'}, inplace = True)\n",
    "df = df.reset_index().rename(columns = {'index':'rid'})\n",
    "\n",
    "#assign unique IDs if in the same university and share the same name\n",
    "df['uid'] = df.groupby(['university','name']).ngroup()"
   ]
  },
  {
   "cell_type": "code",
   "execution_count": 83,
   "id": "89e5582b",
   "metadata": {},
   "outputs": [
    {
     "name": "stdout",
     "output_type": "stream",
     "text": [
      "cases where same uid have multiple rank in a year: 17 IDs\n",
      "obs that have multiple records in the same department and whose salaries are different: 238 IDs\n",
      "obs that have more than 1 department in the same year but salaries are different: 1 IDs\n",
      "total number of suspicious uids: 255\n"
     ]
    }
   ],
   "source": [
    "#if within a year same name has two ranks, then mark as suspicious\n",
    "m1 = df.groupby(['uid'])['rank'].nunique().reset_index()\n",
    "s0 = set(m1[m1['rank'] > 1]['uid'])\n",
    "print('cases where same uid have multiple rank in a year: {} IDs'.format(len(s0)))\n",
    "\n",
    "#if within a year, gross_pay are different, then sum\n",
    "#if within a year, gross_pay are same, then keep one.\n",
    "df = df.merge(df.groupby(['uid','yr'])['gross_pay'].nunique().reset_index(), on=['uid','yr'])\n",
    "u1 = df[df['gross_pay_y']>1]\n",
    "u2 = df[df['gross_pay_y']==1]\n",
    "m1 = u1.groupby(['uid','yr'])['gross_pay_x'].sum().reset_index()\n",
    "m2 = u2.groupby(['uid','yr'])['gross_pay_x'].mean().reset_index()\n",
    "m3 = pd.concat([m1, m2], ignore_index = True)\n",
    "m3.columns = ['uid','yr','gross_pay_sum']\n",
    "df = df.merge(m3, on = ['uid','yr'])\n",
    "df = df.drop(columns = ['gross_pay_y']).rename(columns = {'gross_pay_x':'gross_pay'})\n",
    "\n",
    "#obs that have multiple records in the same department and whose salaries are different\n",
    "m2 = df[df.duplicated(['uid','yr','department'],keep=False)]\n",
    "m2[m2['department']!='']\n",
    "m21 = m2.groupby(['uid','yr'])['gross_pay'].nunique().reset_index()\n",
    "s1 = set(m21[m21['gross_pay']>1]['uid'])\n",
    "print('obs that have multiple records in the same department and whose salaries are different: {} IDs'.format(len(s1)))\n",
    "\n",
    "#obs that have more than 1 department in the same year and whose salaries are different\n",
    "m3 = df.groupby(['uid','yr'])['department'].nunique().reset_index()\n",
    "m3 = m3[m3['department'] > 1]\n",
    "df2 = df[df['uid'].isin(m3.uid)]\n",
    "da = df2.groupby(['uid','yr'])['gross_pay'].nunique().reset_index()\n",
    "s2 = set(da[da['gross_pay']>1]['uid'])\n",
    "print('obs that have more than 1 department in the same year but salaries are different: {} IDs'.format(len(s2)))\n",
    "\n",
    "susp_id = s0 | s1 | s2\n",
    "print('total number of suspicious uids:', len(susp_id))\n",
    "\n",
    "df['suspicious'] = df['uid'].isin(susp_id)"
   ]
  },
  {
   "cell_type": "code",
   "execution_count": 84,
   "id": "7a4600d3",
   "metadata": {},
   "outputs": [],
   "source": [
    "df.to_csv('/Users/apple/Desktop/research_fellow_documents/data_clean/texas_salary.csv', index = False)"
   ]
  }
 ],
 "metadata": {
  "kernelspec": {
   "display_name": "Python 3",
   "language": "python",
   "name": "python3"
  },
  "language_info": {
   "codemirror_mode": {
    "name": "ipython",
    "version": 3
   },
   "file_extension": ".py",
   "mimetype": "text/x-python",
   "name": "python",
   "nbconvert_exporter": "python",
   "pygments_lexer": "ipython3",
   "version": "3.8.8"
  }
 },
 "nbformat": 4,
 "nbformat_minor": 5
}
