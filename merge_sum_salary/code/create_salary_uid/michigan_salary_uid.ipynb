{
 "cells": [
  {
   "cell_type": "markdown",
   "id": "c8df8086",
   "metadata": {},
   "source": [
    "## Data Preprocessing - Michigan System Salary\n",
    "### This file assigns unique person-ID based on her department, title series, salary and year for University of Michigan salary data.\n",
    "\n",
    "**Input: Michigan Salary Data (michigan906.dta)**\n",
    "\n",
    "**Output: michigan_salary.csv, with extra column \"uid\" for each unique individual; \"suspicious\" indicates possible mismatch**\n",
    "\n",
    "### Mark the following UIDs as Supspicious:\n",
    "1. **FTE** cases when same uid have larger than 1 full time equivalent salary\n",
    "2. **Rank** Within a year same name has two ranks, then mark as suspicious\n",
    "\n",
    "Total: 127 IDs out of 12,607 IDs and 3,022 out of 115,120 rows rows marked as suspicious"
   ]
  },
  {
   "cell_type": "code",
   "execution_count": 54,
   "id": "4e9caafe",
   "metadata": {},
   "outputs": [],
   "source": [
    "import os\n",
    "import warnings\n",
    "warnings.simplefilter('ignore')\n",
    "\n",
    "import pandas as pd\n",
    "#pd.options.display.float_format = \"{:,.2f}\".format\n",
    "\n",
    "import numpy as np\n",
    "from matplotlib import pyplot as plt\n",
    "#import seaborn as sns\n",
    "%matplotlib inline\n",
    "\n",
    "os.chdir('/Users/apple/Dropbox/web_scrapping_UC/temp/')\n",
    "\n",
    "#uc_salary = pd.read_csv('/Users/apple/Desktop/research_fellow_documents/uc_salary_new.csv')\n",
    "df = pd.read_stata('michigan906.dta')\n",
    "df.rename(columns = {'salary':'regular_pay','salary_total':'gross_pay'}, inplace = True)\n",
    "df = df.sort_values(['university','first_name','last_name','yr', 'title'])\n",
    "\n",
    "df = df.reset_index().rename(columns = {'index':'rid'})\n",
    "df['uid'] = df.groupby(['university','first_name','last_name']).ngroup()"
   ]
  },
  {
   "cell_type": "code",
   "execution_count": 55,
   "id": "993d2348",
   "metadata": {},
   "outputs": [],
   "source": [
    "m2 = df[df.duplicated(['uid','yr','department'],keep=False)]\n",
    "m2[m2['department']!='']\n",
    "m21 = m2.groupby(['uid','yr'])['gross_pay'].nunique().reset_index()\n",
    "s0 = set(m21[m21['gross_pay']>1]['uid'])\n",
    "#print('obs that have multiple records in the same department and whose salaries are different: {} IDs'.format(len(s0)))\n"
   ]
  },
  {
   "cell_type": "code",
   "execution_count": 56,
   "id": "46b07cc1",
   "metadata": {},
   "outputs": [],
   "source": [
    "#obs that have more than 1 department in the same year and whose salaries are different\n",
    "m3 = df.groupby(['uid','yr'])['department'].nunique().reset_index()\n",
    "m3 = m3[m3['department'] > 1]\n",
    "df2 = df[df['uid'].isin(m3.uid)]\n",
    "da = df2.groupby(['uid','yr'])['gross_pay'].nunique().reset_index()\n",
    "s1 = set(da[da['gross_pay']>1]['uid'])\n",
    "#print('obs that have more than 1 department in the same year but salaries are different: {} IDs'.format(len(s1)))\n"
   ]
  },
  {
   "cell_type": "code",
   "execution_count": 57,
   "id": "98195da7",
   "metadata": {},
   "outputs": [
    {
     "data": {
      "text/plain": [
       "98"
      ]
     },
     "execution_count": 57,
     "metadata": {},
     "output_type": "execute_result"
    }
   ],
   "source": [
    "#whether the gross_pay column is zero or null\n",
    "df['gross_notnull'] = (df['gross_pay'] != 0) & (df['gross_pay'].notnull())\n",
    "\n",
    "#whether the title contains \"prof\"\n",
    "df['title_prof'] = df['title'].str.contains('prof', case=False)\n",
    "\n",
    "ad = df.groupby(['uid','yr']).agg({'fte':'sum', 'regular_pay':'sum','gross_pay':'nunique', 'gross_notnull':'sum', 'title_prof':'sum', 'rank':'nunique'}).reset_index()\n",
    "md = ad[(ad['fte'] > 1.01) | (ad['fte'] < 0.99)]\n",
    "#the following individuals are likely to be duplicates:\n",
    "# Within the same year for the same name: \n",
    "#1.have more than 1 professor type title; 2. two different gross_pay 3. both gross_pay are not zero nor null.\n",
    "s2 = set(md[(md['title_prof'] > 1) & (md['gross_pay'] > 1) & (md['gross_notnull'] > 1)]['uid'])\n",
    "len(s2)\n"
   ]
  },
  {
   "cell_type": "code",
   "execution_count": 58,
   "id": "ca9049f9",
   "metadata": {},
   "outputs": [
    {
     "name": "stdout",
     "output_type": "stream",
     "text": [
      "cases where same uid have multiple rank in a year: 36 IDs.\n"
     ]
    }
   ],
   "source": [
    "#cases where same uid have multiple rank in a year\n",
    "m4 = df.groupby(['yr','uid']).agg({'rank':'nunique', 'fte':'sum'}).reset_index()\n",
    "\n",
    "md = m4[(m4['fte'] > 1.01) | (m4['fte'] < 0.99)]\n",
    "\n",
    "s3 = set(md[md['rank'] > 1]['uid'])\n",
    "print('cases where same uid have multiple rank in a year: {} IDs.'.format(len(s3)))"
   ]
  },
  {
   "cell_type": "code",
   "execution_count": 59,
   "id": "dd1b365c",
   "metadata": {},
   "outputs": [],
   "source": [
    "#if within a year, gross_pay are different, then sum\n",
    "#if within a year, gross_pay are same, then keep one.\n",
    "\n",
    "df = df.merge(df.groupby(['uid','yr'])['gross_pay'].nunique().reset_index(), on=['uid','yr'])\n",
    "u1 = df[df['gross_pay_y']>1]\n",
    "u2 = df[df['gross_pay_y']==1]\n",
    "m1 = u1.groupby(['uid','yr'])['gross_pay_x','regular_pay','gen_fund'].sum().reset_index()\n",
    "m2 = u2.groupby(['uid','yr'])['gross_pay_x','regular_pay','gen_fund'].mean().reset_index()\n",
    "m3 = pd.concat([m1, m2], ignore_index = True)\n",
    "m3.columns = ['uid','yr','gross_pay_sum','regular_pay_sum', 'gen_fund_sum']\n",
    "df = df.merge(m3, on = ['uid','yr'])\n",
    "df = df.drop(columns = ['gross_pay_y']).rename(columns = {'gross_pay_x':'gross_pay'})\n",
    "\n",
    "#mark suspicious IDs\n",
    "df['suspicious'] = df['uid'].isin(s2 | s3)"
   ]
  },
  {
   "cell_type": "code",
   "execution_count": 67,
   "id": "fff39398",
   "metadata": {},
   "outputs": [],
   "source": [
    "df.to_csv('/Users/apple/Desktop/research_fellow_documents/data_clean/michigan_salary.csv', index = False)"
   ]
  }
 ],
 "metadata": {
  "kernelspec": {
   "display_name": "Python 3",
   "language": "python",
   "name": "python3"
  },
  "language_info": {
   "codemirror_mode": {
    "name": "ipython",
    "version": 3
   },
   "file_extension": ".py",
   "mimetype": "text/x-python",
   "name": "python",
   "nbconvert_exporter": "python",
   "pygments_lexer": "ipython3",
   "version": "3.8.8"
  }
 },
 "nbformat": 4,
 "nbformat_minor": 5
}
