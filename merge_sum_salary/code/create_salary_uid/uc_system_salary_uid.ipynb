{
 "cells": [
  {
   "cell_type": "code",
   "execution_count": 163,
   "id": "d39934b3",
   "metadata": {},
   "outputs": [],
   "source": [
    "import os\n",
    "import warnings\n",
    "warnings.simplefilter('ignore')\n",
    "\n",
    "import pandas as pd\n",
    "#pd.options.display.float_format = \"{:,.2f}\".format\n",
    "\n",
    "import numpy as np\n",
    "from matplotlib import pyplot as plt\n",
    "import seaborn as sns\n",
    "%matplotlib inline"
   ]
  },
  {
   "cell_type": "markdown",
   "id": "045f1d33",
   "metadata": {},
   "source": [
    "## Data Preprocessing - UC System Salary\n",
    "### This file assigns unique person-ID based on her department, title series, salary and year for UC salary data.\n",
    "\n",
    "**Input: uc_salary (uc.dta)**\n",
    "\n",
    "**Output: uc_salary_new.csv, with extra column \"uid\" for each unique individual.**\n",
    "\n",
    "Deal with 3 cases:\n",
    "\n",
    "**Case 1**: deal with (university, names) that show up in > 1 departments in the same year. This could be same person with multiple departments, or different persons with same name in different departments. <br>\n",
    "&nbsp;&nbsp;       - If these rows have same (yr, yrid) then they must be the same person.<br>\n",
    "&nbsp;&nbsp;       - If not, then they are not the same person.<br>\n",
    "&nbsp;&nbsp;       - We assume same unique person must be 1) have the same set of fields which do not change over time. 2) Must have the same payroll series over time, which says the same person must have the same \"series\" across years. This allows us to match names *across years.* \n",
    "\n",
    "**Case 2**: for names not in **Case 1**, find out rows with names that show up in the same departments multiple times in the same year. This includes cases when no department information available. Because the same name shows up in the same year and their (yrid, yr) differ, they must be different individuals. \n",
    "Then we still make the same assumption as in **Case 1** to match names *across years.* . \n",
    "\n",
    "**Case 3**: all the remaining names. This is easy since each university-name pair is associated with only one observation each year."
   ]
  },
  {
   "cell_type": "markdown",
   "id": "0cffb431",
   "metadata": {},
   "source": [
    "## Case 1"
   ]
  },
  {
   "cell_type": "code",
   "execution_count": 128,
   "id": "11c3bf60",
   "metadata": {},
   "outputs": [],
   "source": [
    "os.chdir('/Users/apple/Dropbox/web_scrapping_UC/temp/')\n",
    "uc_salary = pd.read_stata('uc.dta')\n",
    "#df = pd.read_stata('michigan906.dta')\n",
    "uc_salary.rename(columns = {'salary':'regular_pay','salary_total':'gross_pay'}, inplace = True)\n",
    "uc_salary = uc_salary.sort_values(['university','first_name','last_name','yr', 'title'])\n",
    "\n",
    "uc_salary['first_name_short'] = uc_salary['first_name'].str.split(' ').str[0].str.strip()\n",
    "uc_salary.rename(columns = {'first_name':'first_name_raw','first_name_short':'first_name'}, inplace = True)\n",
    "\n",
    "#uc_salary = uc_salary.reset_index().rename(columns = {'index':'rid'})\n",
    "#uc_salary['uid'] = uc_salary.groupby(['university','first_name','last_name']).ngroup()"
   ]
  },
  {
   "cell_type": "code",
   "execution_count": 129,
   "id": "9e98eea7",
   "metadata": {},
   "outputs": [],
   "source": [
    "uc_salary = uc_salary.reset_index().rename(columns = {'index':'rid'})\n",
    "\n",
    "#find out names that show up in > 1 departments in the same year\n",
    "tt2 = uc_salary.groupby(['university','first_name','last_name','yr'])['department'].nunique().reset_index()\n",
    "tt2_find = tt2[tt2['department'] > 1][['university','first_name','last_name','yr']]\n",
    "\n",
    "#uc_salary_a = uc_salary.merge(tt_find, on = ['university','first_name','last_name'], how = 'right')\n",
    "uc_salary_b = uc_salary.merge(tt2_find, on = ['university','first_name','last_name','yr'], how = 'right')\n",
    "\n",
    "#1. If they have the same yr, yrid then this is 100% same person.\n",
    "group_vars = ['yr','yrid']\n",
    "\n",
    "uc_salary_b2 = uc_salary_b.merge(uc_salary_b[group_vars].drop_duplicates(group_vars).reset_index(), on = group_vars)\n",
    "#uc_salary_b2 = uc_salary_b2.drop(columns = ['uid'])\n",
    "uc_salary_b2 = uc_salary_b2.rename(columns = {'index':'uid'})\n",
    "\n",
    "#same unique person must be affiliated with same set of departments, and have same \"series\" across years\n",
    "uc_salary_b3 = uc_salary_b2.merge(uc_salary_b2.groupby(['uid']).agg({'field':'unique','series':'unique'}).reset_index().rename(columns={'field':'u_fields','series':'u_series'}), on = ['uid'], how = 'left')\n",
    "\n",
    "uc_salary_b3['u_series'] = uc_salary_b3['u_series'].apply(lambda x: x.tolist()).astype('str')\n",
    "uc_salary_b3['u_fields'] = uc_salary_b3['u_fields'].apply(lambda x: x.tolist()).astype('str')\n",
    "keys = ['university','first_name','last_name','u_fields','u_series']\n",
    "uc_salary_b4 = uc_salary_b3.drop_duplicates(['uid'])\n",
    "\n",
    "uc_salary_b5 = uc_salary_b4.merge(uc_salary_b4[keys].drop_duplicates(keys).reset_index(), on=keys).rename(columns={'index':'uid2'})\n",
    "\n",
    "uc_salary_b6 = uc_salary_b3.merge(uc_salary_b5[['uid','uid2']], on = ['uid'], how='left')"
   ]
  },
  {
   "cell_type": "markdown",
   "id": "f9907e31",
   "metadata": {},
   "source": [
    "## Case 2 and 3"
   ]
  },
  {
   "cell_type": "code",
   "execution_count": 130,
   "id": "d8e6dc87",
   "metadata": {},
   "outputs": [],
   "source": [
    "#look at remaining rows\n",
    "uc_salary_a = uc_salary[~uc_salary['rid'].isin(uc_salary_b6.rid)]\n",
    "\n",
    "#find out rows with names that show up in the same departments multiple times in the same year\n",
    "uc_salary_a1 = uc_salary_a[uc_salary_a.duplicated(['university','last_name','first_name','yr'],keep=False)]\n",
    "uc_salary_a2 = uc_salary_a.drop_duplicates(['university','last_name','first_name','yr'],keep=False)\n",
    "\n",
    "uc_salary_a1 = uc_salary_a1.reset_index().rename(columns = {'index':'uid'})\n",
    "uc_salary_a3 = uc_salary_a2.merge(uc_salary_a1[['university','first_name','last_name']].drop_duplicates(), on = ['university','first_name','last_name'])\n",
    "uc_salary_a3['uid'] = None\n",
    "\n",
    "uc_salary_a4 = pd.concat([uc_salary_a1, uc_salary_a3], ignore_index = True)\n",
    "\n",
    "#if uc_salary_a4 has two different uids then it's IMPOSSIBLE that the two rows are the same person\n",
    "\n",
    "gps = ['university','first_name','last_name','series','department']\n",
    "uc_salary_a5 = uc_salary_a4.merge(uc_salary_a4[gps].drop_duplicates(gps).reset_index(), on = gps).rename(columns={'index':'uid2'})\n",
    "uc_salary_a5.to_csv('/Users/apple/Desktop/uc_salary_a5.csv', index=False)\n",
    "uc_salary_a5 = pd.read_csv('/Users/apple/Desktop/uc_salary_a5.csv')\n",
    "\n",
    "#uc_salary_b6\n",
    "gps = ['university','first_name','last_name']\n",
    "uc_salary_a2 = uc_salary_a2.merge(uc_salary_a2[gps].drop_duplicates(gps).reset_index(), on=gps).rename(columns = {'index':'uid2'})"
   ]
  },
  {
   "cell_type": "markdown",
   "id": "26da7439",
   "metadata": {},
   "source": [
    "## Merge 3 cases together"
   ]
  },
  {
   "cell_type": "code",
   "execution_count": 131,
   "id": "a7d1fa5f",
   "metadata": {},
   "outputs": [],
   "source": [
    "#uc_salary_b6 = uc_salary_b6.drop(columns = ['u_fields','u_series','uid'])\n",
    "#uc_salary_a5 = uc_salary_a5.drop(columns='uid')\n",
    "uc_salary_a5['uid2'] = 'a'+ uc_salary_a5['uid2'].astype('str')\n",
    "uc_salary_b6['uid2'] = 'b'+ uc_salary_b6['uid2'].astype('str')\n",
    "uc_salary_a2['uid2'] = 'c'+ uc_salary_a2['uid2'].astype('str')\n",
    "#same series, year, university name\n",
    "\n",
    "uc_salary_new = pd.concat([uc_salary_a2, uc_salary_b6, uc_salary_a5], ignore_index=True).sort_values(['rid'])\n",
    "\n",
    "uc_salary_new_a = uc_salary_new[uc_salary_new.duplicated(['rid'], keep=False)]\n",
    "uc_salary_new_b = uc_salary_new.drop_duplicates(['rid'], keep=False)\n",
    "uc_salary_new_a = uc_salary_new_a.sort_values(['rid','uid2'],ascending=False).drop_duplicates(['rid'])\n",
    "\n",
    "uc_salary_new = pd.concat([uc_salary_new_a, uc_salary_new_b], ignore_index=True).drop(columns=['rid'])\n",
    "uc_salary_new['uid'] = uc_salary_new.groupby(['uid2']).ngroup()\n",
    "uc_salary_new = uc_salary_new.sort_values(['uid']).drop(columns=['uid2'])\n"
   ]
  },
  {
   "cell_type": "code",
   "execution_count": 132,
   "id": "8f76eb4b",
   "metadata": {},
   "outputs": [],
   "source": [
    "uc_salary = uc_salary_new"
   ]
  },
  {
   "cell_type": "markdown",
   "id": "03bf2ec8",
   "metadata": {},
   "source": [
    "Mark as suspicious if within the same year, one name is associated with two or more rows with cto_code or rank"
   ]
  },
  {
   "cell_type": "code",
   "execution_count": 133,
   "id": "3b62ff45",
   "metadata": {},
   "outputs": [],
   "source": [
    "#uc_salary = pd.read_csv('/Users/apple/Desktop/research_fellow_documents/data_clean/uc_salary.csv')\n",
    "dups = uc_salary[uc_salary.duplicated(['uid','yr'],keep=False)].sort_values(['uid','yr'])\n",
    "m1 = dups.groupby(['uid','yr']).agg({'cto_code': 'nunique', 'rank':'nunique'}).reset_index()\n",
    "\n",
    "a1 = set(m1[m1['cto_code'] > 1]['uid'])\n",
    "a2 = set(m1[m1['rank'] > 1]['uid'])\n",
    "\n",
    "uc_salary['suspicious'] = uc_salary['uid'].isin(a1 | a2)\n",
    "df = uc_salary\n",
    "df = df.merge(df.groupby(['uid','yr'])['gross_pay'].nunique().reset_index(), on=['uid','yr'])\n",
    "\n",
    "u1 = df[df['gross_pay_y']>1]\n",
    "u2 = df[df['gross_pay_y']==1]\n",
    "m1 = u1.groupby(['uid','yr'])['gross_pay_x','regular_pay'].sum().reset_index()\n",
    "m2 = u2.groupby(['uid','yr'])['gross_pay_x','regular_pay'].mean().reset_index()\n",
    "m3 = pd.concat([m1, m2], ignore_index = True)\n",
    "m3.columns = ['uid','yr','gross_pay_sum','regular_pay_sum']\n",
    "df = df.merge(m3, on = ['uid','yr'])\n",
    "df = df.drop(columns = ['gross_pay_y']).rename(columns = {'gross_pay_x':'gross_pay'})\n",
    "#df['suspicious'] = df['uid'].isin(suspicious)"
   ]
  },
  {
   "cell_type": "markdown",
   "id": "239af2ef",
   "metadata": {},
   "source": [
    "## Find person i who share the same (first_name, last_name) but with missing middle initials with person j in university k and payment series r, then we assume i and j are the same person."
   ]
  },
  {
   "cell_type": "code",
   "execution_count": 331,
   "id": "0f2812a7",
   "metadata": {},
   "outputs": [],
   "source": [
    "os.chdir('/Users/apple/Dropbox/web_scrapping_UC/merge_sum_salary/salary_data')\n",
    "uc = pd.read_csv('uc_salary.csv')\n",
    "uc = uc.reset_index().rename(columns = {'index':'rid'})\n",
    "\n",
    "uc['first_name_fp'] = uc['first_name'].str.split(' ').str[0].str.strip()\n",
    "uc['first_name_sp'] = uc['first_name'].str.split(' ').str[-1].str.strip()"
   ]
  },
  {
   "cell_type": "code",
   "execution_count": 333,
   "id": "8b02c596",
   "metadata": {},
   "outputs": [],
   "source": [
    "# if there is no second part (middle initial) AND there is someone with the same \n",
    "#first_name last_name, then assume they are the same individual.\n",
    "uc.loc[uc['first_name_fp'] == uc['first_name_sp'], 'first_name_sp'] = None"
   ]
  },
  {
   "cell_type": "code",
   "execution_count": 334,
   "id": "951f3c9f",
   "metadata": {},
   "outputs": [],
   "source": [
    "uc['missing_mi'] = (uc['first_name_sp'].isnull())\n",
    "mis = uc.groupby(['first_name_fp','last_name','university','series']).agg({'missing_mi':'sum', 'uid': 'nunique'}).reset_index()"
   ]
  },
  {
   "cell_type": "code",
   "execution_count": 335,
   "id": "d7959183",
   "metadata": {},
   "outputs": [],
   "source": [
    "mis2 = mis[(mis['missing_mi'] >= 1) & (mis['uid'] > 1)]\n",
    "mis3 = mis2[['first_name_fp', 'last_name', 'university','series']]\n",
    "uc = uc.drop(columns = ['missing_mi'])\n",
    "uc2 = uc.merge(mis3, on = ['first_name_fp', 'last_name', 'university','series'])\n",
    "uc2['new_uid'] = uc2.groupby(['first_name_fp', 'last_name', 'university','series']).ngroup()"
   ]
  },
  {
   "cell_type": "code",
   "execution_count": 338,
   "id": "de8adea1",
   "metadata": {},
   "outputs": [],
   "source": [
    "id2dept = uc2[uc2['department'].notnull()].groupby(['new_uid'])['department'].nunique().reset_index()\n",
    "id2dept_unique = set(id2dept[id2dept['department'] == 1]['new_uid']) #uid with unique department affiliation\n",
    "\n",
    "match = uc2[(uc2['department'].notnull()) & (uc2['new_uid'].isin(id2dept_unique))].drop_duplicates(['new_uid','department'])"
   ]
  },
  {
   "cell_type": "code",
   "execution_count": 339,
   "id": "9794e0ab",
   "metadata": {},
   "outputs": [],
   "source": [
    "match2 = dict(zip(match['new_uid'],match['department']))\n",
    "\n",
    "uc2a = uc2[uc2['new_uid'].isin(id2dept_unique)]\n",
    "uc2b = uc2[~uc2['new_uid'].isin(id2dept_unique)]\n",
    "uc2a['department'] = uc2a['new_uid'].map(match2)\n",
    "\n",
    "uc3 = pd.concat([uc2a, uc2b], ignore_index = True)\n",
    "#uc3 = uc3.drop(columns = ['first_name_fp','first_name_sp'])"
   ]
  },
  {
   "cell_type": "code",
   "execution_count": 340,
   "id": "7577db73",
   "metadata": {},
   "outputs": [],
   "source": [
    "uc4 = uc[~uc['rid'].isin(uc3.rid)]\n",
    "uc4['new_uid'] = uc4['uid']\n",
    "uc5 = pd.concat([uc3, uc4], ignore_index= True)"
   ]
  },
  {
   "cell_type": "code",
   "execution_count": 345,
   "id": "889447c7",
   "metadata": {},
   "outputs": [],
   "source": [
    "tf = uc5[uc5['cip_code'].notnull()][['department','cip_code', 'field']].drop_duplicates()\n",
    "\n",
    "dept2code = dict(zip(tf.department, tf.cip_code))\n",
    "dept2field = dict(zip(tf.department, tf.field))\n",
    "uc5['cip_code'] = uc5['department'].map(dept2code)\n",
    "uc5['field'] = uc5['department'].map(dept2field)\n",
    "uc5 = uc5.drop(columns = ['first_name_fp', 'first_name_sp'])\n",
    "uc5.to_csv('/Users/apple/Dropbox/web_scrapping_UC/merge_sum_salary/salary_data/uc_salary_updated.csv', index=False)"
   ]
  }
 ],
 "metadata": {
  "kernelspec": {
   "display_name": "Python 3",
   "language": "python",
   "name": "python3"
  },
  "language_info": {
   "codemirror_mode": {
    "name": "ipython",
    "version": 3
   },
   "file_extension": ".py",
   "mimetype": "text/x-python",
   "name": "python",
   "nbconvert_exporter": "python",
   "pygments_lexer": "ipython3",
   "version": "3.8.8"
  }
 },
 "nbformat": 4,
 "nbformat_minor": 5
}
